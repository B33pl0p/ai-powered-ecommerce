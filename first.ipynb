{
 "cells": [
  {
   "cell_type": "code",
   "execution_count": 35,
   "id": "8af6bf9c-38c3-48f3-8d92-25cc305f10a4",
   "metadata": {},
   "outputs": [],
   "source": [
    "import cv2\n",
    "import tensorflow as tf\n",
    "from tensorflow.keras.applications.mobilenet_v2 import MobileNetV2, preprocess_input, decode_predictions\n",
    "from tensorflow.keras.preprocessing import image\n",
    "from IPython.display import clear_output\n",
    "import numpy as np\n",
    "from time import sleep\n",
    "import os"
   ]
  },
  {
   "cell_type": "code",
   "execution_count": 40,
   "id": "c1a72456-ef31-4bf9-88a9-fd6e770bb16b",
   "metadata": {},
   "outputs": [
    {
     "name": "stdout",
     "output_type": "stream",
     "text": [
      "\u001b[1m1/1\u001b[0m \u001b[32m━━━━━━━━━━━━━━━━━━━━\u001b[0m\u001b[37m\u001b[0m \u001b[1m0s\u001b[0m 44ms/step\n",
      "Predicted: [('n04239074', 'sliding_door', 0.14712293), ('n04589890', 'window_screen', 0.09875917), ('n03467068', 'guillotine', 0.07023851)]\n"
     ]
    }
   ],
   "source": [
    "capture = cv2.VideoCapture(0)\n",
    "while True:\n",
    "    ret,frame = capture.read()\n",
    "    imgRGB = cv2.cvtColor(frame, cv2.COLOR_BGR2RGB)\n",
    "    imgRGB = cv2.resize(imgRGB,(50,50))\n",
    "\n",
    "    #encode image as PNG\n",
    "    _, buffer = cv2.imencode('.png', imgRGB)\n",
    "\n",
    "    #convert buffer to BytesIO\n",
    "    image_bytes = io.BytesIO(buffer)\n",
    "\n",
    "    sleep(0.5)\n",
    "    classify_image(image_bytes)\n",
    "    clear_output(wait=True)\n",
    "    \n",
    "    cv2.imshow('frame',frame)\n",
    "    if cv2.waitKey(1) == ord('q'):\n",
    "        break\n",
    "    os.system('clear')    \n",
    "        \n",
    "capture.release()\n",
    "cv2.destroyAllWindows()"
   ]
  },
  {
   "cell_type": "code",
   "execution_count": 5,
   "id": "bae6db36-b469-4260-9aef-6a5cfbefdda7",
   "metadata": {},
   "outputs": [],
   "source": [
    "# Load the pre-trained model\n",
    "model = MobileNetV2(weights='imagenet')\n",
    "\n",
    "def classify_image(img_path):\n",
    "    try:\n",
    "        img = image.load_img(img_path, target_size=(224, 224))\n",
    "        x = image.img_to_array(img)\n",
    "        x = np.expand_dims(x, axis=0)\n",
    "        x = preprocess_input(x)\n",
    "\n",
    "        preds = model.predict(x)\n",
    "        print('Predicted:', decode_predictions(preds, top=3)[0])\n",
    "    except Exception as e:\n",
    "        print(f\"Error in classifying image: {e}\")\n",
    "        "
   ]
  },
  {
   "cell_type": "code",
   "execution_count": null,
   "id": "c8afeb25-382c-48ac-bde2-5bc3c0cd237c",
   "metadata": {},
   "outputs": [],
   "source": [
    "\n",
    "img_frame"
   ]
  },
  {
   "cell_type": "code",
   "execution_count": null,
   "id": "a6ba28e1-2818-4e93-b228-b7e85fbcb6ed",
   "metadata": {},
   "outputs": [],
   "source": []
  }
 ],
 "metadata": {
  "kernelspec": {
   "display_name": "Python 3 (ipykernel)",
   "language": "python",
   "name": "python3"
  },
  "language_info": {
   "codemirror_mode": {
    "name": "ipython",
    "version": 3
   },
   "file_extension": ".py",
   "mimetype": "text/x-python",
   "name": "python",
   "nbconvert_exporter": "python",
   "pygments_lexer": "ipython3",
   "version": "3.10.12"
  }
 },
 "nbformat": 4,
 "nbformat_minor": 5
}
