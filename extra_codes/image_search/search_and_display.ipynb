{
 "cells": [
  {
   "cell_type": "code",
   "execution_count": null,
   "metadata": {},
   "outputs": [],
   "source": [
    "import torch\n",
    "import torchvision.transforms as transforms\n",
    "from torchvision.models import resnet50\n",
    "from PIL import Image\n",
    "import numpy as np\n",
    "import faiss\n",
    "import pickle\n",
    "import psycopg2\n"
   ]
  },
  {
   "cell_type": "code",
   "execution_count": null,
   "metadata": {},
   "outputs": [],
   "source": [
    "# Load pre-trained ResNet-50 model\n",
    "model = resnet50(pretrained=True)\n",
    "model = model.eval()  # Set model to evaluation mode\n",
    "\n",
    "# Remove the final fully connected layer to use ResNet as a feature extractor\n",
    "model = torch.nn.Sequential(*(list(model.children())[:-1]))\n",
    "\n",
    "# Image preprocessing (same as used for ImageNet pretraining)\n",
    "preprocess = transforms.Compose([\n",
    "    transforms.Resize(256),\n",
    "    transforms.CenterCrop(224),\n",
    "    transforms.ToTensor(),\n",
    "    transforms.Normalize(mean=[0.485, 0.456, 0.406], std=[0.229, 0.224, 0.225]),\n",
    "])\n"
   ]
  },
  {
   "cell_type": "code",
   "execution_count": null,
   "metadata": {},
   "outputs": [],
   "source": [
    "# Load the FAISS index\n",
    "faiss_index_path = 'faiss_ivf_hnsw_index.index'\n",
    "index = faiss.read_index(faiss_index_path)\n",
    "\n",
    "# Load the faiss_id_to_image_name mapping from pickle file\n",
    "with open('faiss_id_to_image_name.pkl', 'rb') as f:\n",
    "    faiss_id_to_image_name = pickle.load(f)\n",
    "\n",
    "print(\"FAISS index and mappings loaded successfully.\")\n"
   ]
  },
  {
   "cell_type": "code",
   "execution_count": null,
   "metadata": {},
   "outputs": [],
   "source": [
    "# Function to extract features from the query image\n",
    "def extract_query_feature(image_path):\n",
    "    image = Image.open(image_path).convert('RGB')\n",
    "    image = preprocess(image).unsqueeze(0)  # Add batch dimension\n",
    "    with torch.no_grad():\n",
    "        feature_vector = model(image)\n",
    "    return feature_vector.squeeze().numpy()  # Convert to NumPy array and remove batch dimension\n",
    "\n",
    "# Example: Path to the query image\n",
    "query_image_path = 'path_to_query_image.jpg'\n",
    "\n",
    "# Extract feature vector from the query image\n",
    "query_feature_vector = extract_query_feature(query_image_path)\n",
    "query_feature_vector = np.array([query_feature_vector]).astype('float32')  # Reshape for FAISS\n",
    "\n",
    "print(\"Query image feature extracted.\")\n"
   ]
  },
  {
   "cell_type": "code",
   "execution_count": null,
   "metadata": {},
   "outputs": [],
   "source": [
    "# Number of nearest neighbors to retrieve\n",
    "k = 1  # You can retrieve more than one if needed\n",
    "\n",
    "# Search FAISS index\n",
    "D, I = index.search(query_feature_vector, k)\n",
    "\n",
    "# If a similar image is found\n",
    "if I[0][0] != -1:  # FAISS returns -1 if no match is found\n",
    "    faiss_index_id = I[0][0]\n",
    "    similar_image_name = faiss_id_to_image_name[faiss_index_id]\n",
    "    print(f\"Found similar image: {similar_image_name}\")\n",
    "else:\n",
    "    print(\"No similar images found.\")\n"
   ]
  },
  {
   "cell_type": "code",
   "execution_count": null,
   "metadata": {},
   "outputs": [],
   "source": [
    "# PostgreSQL database connection details\n",
    "db_name = 'your_db_name'\n",
    "db_user = 'your_db_user'\n",
    "db_password = 'your_password'\n",
    "db_host = 'localhost'  # or the IP address if hosted externally\n",
    "db_port = '5432'\n",
    "\n",
    "# Connect to the PostgreSQL database\n",
    "conn = psycopg2.connect(dbname=db_name, user=db_user, password=db_password, host=db_host, port=db_port)\n",
    "\n",
    "# Create a cursor to execute queries\n",
    "cur = conn.cursor()\n",
    "\n",
    "# Query the database using the image name (primary key)\n",
    "query = \"SELECT * FROM images_table WHERE image_name = %s;\"\n",
    "cur.execute(query, (similar_image_name,))\n",
    "\n",
    "# Fetch the result\n",
    "result = cur.fetchone()\n",
    "\n",
    "# Close the cursor and connection\n",
    "cur.close()\n",
    "conn.close()\n",
    "\n",
    "# Display the result\n",
    "if result:\n",
    "    print(f\"Database result: {result}\")\n",
    "else:\n",
    "    print(\"No data found for the similar image in the database.\")\n"
   ]
  }
 ],
 "metadata": {
  "language_info": {
   "name": "python"
  }
 },
 "nbformat": 4,
 "nbformat_minor": 2
}
