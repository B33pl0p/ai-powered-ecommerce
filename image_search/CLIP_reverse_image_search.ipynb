{
  "nbformat": 4,
  "nbformat_minor": 0,
  "metadata": {
    "colab": {
      "provenance": []
    },
    "kernelspec": {
      "name": "python3",
      "display_name": "Python 3"
    },
    "language_info": {
      "name": "python"
    }
  },
  "cells": [
    {
      "cell_type": "code",
      "source": [
        "import torch\n",
        "import clip\n",
        "from PIL import Image\n",
        "from google.colab import drive\n",
        "\n",
        "#loading CLIP MODEL and preprocessing function\n",
        "device = \"cuda\" if torch.cuda.is_available() else \"cpu\"\n",
        "model, preprocess = clip.load(\"ViT-B/32\", device = device)"
      ],
      "metadata": {
        "id": "B_QzsJRgPJud"
      },
      "execution_count": 5,
      "outputs": []
    },
    {
      "cell_type": "code",
      "source": [
        "drive.mount('/content/drive')\n",
        "DATA_PATH = \"/content/drive/MyDrive\""
      ],
      "metadata": {
        "colab": {
          "base_uri": "https://localhost:8080/"
        },
        "id": "WcSE7uRCV-3A",
        "outputId": "18d4c2f2-779c-43dc-b8ea-59464248514a"
      },
      "execution_count": 6,
      "outputs": [
        {
          "output_type": "stream",
          "name": "stdout",
          "text": [
            "Mounted at /content/drive\n"
          ]
        }
      ]
    },
    {
      "cell_type": "code",
      "source": [
        "#preprocessing the image\n",
        "image_path = (DATA_PATH+'/dataset/random_test_images/lehenga.png')\n",
        "\n",
        "#.to(device) method moves the image tensor to the specified computing device either CPU or GPU\n",
        "image = preprocess(Image.open(image_path)).unsqueeze(0).to(device)"
      ],
      "metadata": {
        "id": "lTeYAxGVROYY"
      },
      "execution_count": 10,
      "outputs": []
    },
    {
      "cell_type": "code",
      "execution_count": 12,
      "metadata": {
        "id": "iQ8KVajcO-vL"
      },
      "outputs": [],
      "source": [
        "#Encode the  image into CLIP's embedding space\n",
        "with torch.no_grad():\n",
        "  image_features = model.encode_image(image)\n",
        "\n",
        "#normalize the calculated embeddings\n",
        "image_features /=  image_features.norm(dim = -1, keepdim = True)"
      ]
    },
    {
      "cell_type": "code",
      "source": [],
      "metadata": {
        "id": "ThTzveBXmox-"
      },
      "execution_count": null,
      "outputs": []
    }
  ]
}